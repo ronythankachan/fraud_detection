{
 "cells": [
  {
   "cell_type": "code",
   "execution_count": 2,
   "id": "222787ea",
   "metadata": {},
   "outputs": [],
   "source": [
    "import numpy as np\n",
    "import pandas as pd\n",
    "from sklearn.preprocessing import LabelEncoder, OneHotEncoder\n",
    "from sklearn.model_selection import train_test_split\n",
    "from sklearn.metrics import accuracy_score, confusion_matrix, roc_auc_score\n",
    "from sklearn import metrics\n",
    "from sklearn.model_selection import GridSearchCV\n",
    "from sklearn.ensemble import RandomForestClassifier\n",
    "from sklearn.svm import SVC"
   ]
  },
  {
   "cell_type": "code",
   "execution_count": 3,
   "id": "7e29c367",
   "metadata": {},
   "outputs": [],
   "source": [
    "data = pd.read_csv('data/insurance_claims.csv')"
   ]
  },
  {
   "cell_type": "code",
   "execution_count": 10,
   "id": "deb507e3",
   "metadata": {},
   "outputs": [
    {
     "data": {
      "text/plain": [
       "(1000, 39)"
      ]
     },
     "execution_count": 10,
     "metadata": {},
     "output_type": "execute_result"
    }
   ],
   "source": [
    "data.head(5)\n",
    "data.shape"
   ]
  },
  {
   "cell_type": "code",
   "execution_count": 11,
   "id": "e7eb53d9",
   "metadata": {},
   "outputs": [],
   "source": [
    "data = data.replace('?', np.nan)"
   ]
  },
  {
   "cell_type": "code",
   "execution_count": 12,
   "id": "19cdd651",
   "metadata": {},
   "outputs": [],
   "source": [
    "dropable_columns = ['policy_annual_premium','policy_number','policy_bind_date','policy_state','policy_csl','insured_zip','incident_location','incident_date','incident_state','incident_city','auto_make','auto_model','auto_year']"
   ]
  },
  {
   "cell_type": "code",
   "execution_count": 13,
   "id": "3941c1c9",
   "metadata": {},
   "outputs": [],
   "source": [
    "data.drop(dropable_columns,1,inplace=True)"
   ]
  },
  {
   "cell_type": "code",
   "execution_count": 14,
   "id": "2251b2b1",
   "metadata": {},
   "outputs": [
    {
     "data": {
      "text/plain": [
       "(1000, 26)"
      ]
     },
     "execution_count": 14,
     "metadata": {},
     "output_type": "execute_result"
    }
   ],
   "source": [
    "data.shape"
   ]
  },
  {
   "cell_type": "code",
   "execution_count": 15,
   "id": "5fd81aa5",
   "metadata": {},
   "outputs": [
    {
     "data": {
      "text/plain": [
       "months_as_customer               0\n",
       "age                              0\n",
       "policy_deductable                0\n",
       "umbrella_limit                   0\n",
       "insured_sex                      0\n",
       "insured_education_level          0\n",
       "insured_occupation               0\n",
       "insured_hobbies                  0\n",
       "insured_relationship             0\n",
       "capital-gains                    0\n",
       "capital-loss                     0\n",
       "incident_type                    0\n",
       "collision_type                 178\n",
       "incident_severity                0\n",
       "authorities_contacted            0\n",
       "incident_hour_of_the_day         0\n",
       "number_of_vehicles_involved      0\n",
       "property_damage                360\n",
       "bodily_injuries                  0\n",
       "witnesses                        0\n",
       "police_report_available        343\n",
       "total_claim_amount               0\n",
       "injury_claim                     0\n",
       "property_claim                   0\n",
       "vehicle_claim                    0\n",
       "fraud_reported                   0\n",
       "dtype: int64"
      ]
     },
     "execution_count": 15,
     "metadata": {},
     "output_type": "execute_result"
    }
   ],
   "source": [
    "data.isnull().sum()"
   ]
  },
  {
   "cell_type": "code",
   "execution_count": 16,
   "id": "984f1780",
   "metadata": {},
   "outputs": [],
   "source": [
    "data_mode = dict(data.mode().iloc[0])"
   ]
  },
  {
   "cell_type": "code",
   "execution_count": 17,
   "id": "047cca4a",
   "metadata": {},
   "outputs": [],
   "source": [
    "data = data.fillna(data_mode)"
   ]
  },
  {
   "cell_type": "code",
   "execution_count": 18,
   "id": "9f108314",
   "metadata": {},
   "outputs": [],
   "source": [
    "cat_df = data.select_dtypes(include=['object']).copy()"
   ]
  },
  {
   "cell_type": "code",
   "execution_count": 20,
   "id": "5d9e5934",
   "metadata": {},
   "outputs": [],
   "source": [
    "num_df = data.select_dtypes(include=[\"int64\"]).copy()"
   ]
  },
  {
   "cell_type": "code",
   "execution_count": 24,
   "id": "28cf0812",
   "metadata": {},
   "outputs": [
    {
     "data": {
      "text/plain": [
       "Index(['insured_sex', 'insured_education_level', 'insured_occupation',\n",
       "       'insured_hobbies', 'insured_relationship', 'incident_type',\n",
       "       'collision_type', 'incident_severity', 'authorities_contacted',\n",
       "       'property_damage', 'police_report_available', 'fraud_reported'],\n",
       "      dtype='object')"
      ]
     },
     "execution_count": 24,
     "metadata": {},
     "output_type": "execute_result"
    }
   ],
   "source": [
    "cat_df.columns"
   ]
  },
  {
   "cell_type": "code",
   "execution_count": 26,
   "id": "acad5265",
   "metadata": {},
   "outputs": [],
   "source": [
    "labelencoder_dict = {}\n",
    "for column in cat_df.columns:\n",
    "    le = LabelEncoder()\n",
    "    labelencoder_dict[column] = le\n",
    "    cat_df[column] = le.fit_transform(cat_df[column])"
   ]
  },
  {
   "cell_type": "code",
   "execution_count": 81,
   "id": "ef45b177",
   "metadata": {},
   "outputs": [],
   "source": [
    "pickle.dump(labelencoder_dict, open('lableencoderdict.pkl','wb'))"
   ]
  },
  {
   "cell_type": "code",
   "execution_count": null,
   "id": "47cf998f",
   "metadata": {},
   "outputs": [],
   "source": []
  },
  {
   "cell_type": "code",
   "execution_count": null,
   "id": "93fc3198",
   "metadata": {},
   "outputs": [],
   "source": []
  },
  {
   "cell_type": "code",
   "execution_count": 31,
   "id": "75a84f8f",
   "metadata": {},
   "outputs": [],
   "source": [
    "final_df = pd.concat([num_df,cat_df], axis=1)"
   ]
  },
  {
   "cell_type": "code",
   "execution_count": 34,
   "id": "9a57e3d7",
   "metadata": {},
   "outputs": [],
   "source": [
    "target_value = 'fraud_reported'\n",
    "X = final_df.drop([target_value],1)\n",
    "y = final_df[target_value]"
   ]
  },
  {
   "cell_type": "code",
   "execution_count": 35,
   "id": "8f39768e",
   "metadata": {},
   "outputs": [],
   "source": [
    "train_X, test_X , train_y, test_y = train_test_split(X, y, test_size =0.3, random_state = 2020)"
   ]
  },
  {
   "cell_type": "code",
   "execution_count": 36,
   "id": "8f88dd6f",
   "metadata": {},
   "outputs": [],
   "source": [
    "clf = RandomForestClassifier(n_estimators=100)"
   ]
  },
  {
   "cell_type": "code",
   "execution_count": 37,
   "id": "b06e9db3",
   "metadata": {},
   "outputs": [],
   "source": [
    "pred_y = clf.fit(train_X, train_y).predict(test_X)"
   ]
  },
  {
   "cell_type": "code",
   "execution_count": 38,
   "id": "82c10f8f",
   "metadata": {},
   "outputs": [
    {
     "data": {
      "text/plain": [
       "0.7733333333333333"
      ]
     },
     "execution_count": 38,
     "metadata": {},
     "output_type": "execute_result"
    }
   ],
   "source": [
    "accuracy_score(test_y, pred_y)"
   ]
  },
  {
   "cell_type": "code",
   "execution_count": 39,
   "id": "3a8cf2bc",
   "metadata": {},
   "outputs": [],
   "source": [
    "import pickle"
   ]
  },
  {
   "cell_type": "code",
   "execution_count": 40,
   "id": "3f74da55",
   "metadata": {},
   "outputs": [],
   "source": [
    "pickle.dump(clf, open('model_encodings_saved.pkl','wb'))"
   ]
  },
  {
   "cell_type": "code",
   "execution_count": 41,
   "id": "1d9437e8",
   "metadata": {},
   "outputs": [],
   "source": [
    "model = pickle.load(open('model_encodings_saved.pkl','rb'))"
   ]
  },
  {
   "cell_type": "code",
   "execution_count": 42,
   "id": "87943d43",
   "metadata": {},
   "outputs": [],
   "source": [
    "json_input = {\n",
    "  \"months_as_customer\": 328,\n",
    "  \"age\": 29,\n",
    "  \"policy_deductable\": 1000,\n",
    "  \"umbrella_limit\": 5000000,\n",
    "  \"capital-gains\": 35100,\n",
    "  \"capital-loss\": 0,\n",
    "  \"incident_hour_of_the_day\": 5,\n",
    "  \"number_of_vehicles_involved\": 1,\n",
    "  \"bodily_injuries\": 2,\n",
    "  \"witnesses\": 0,\n",
    "  \"total_claim_amount\": 65000,\n",
    "  \"injury_claim\": 1300,\n",
    "  \"property_claim\": 650,\n",
    "  \"vehicle_claim\": 5200,\n",
    "  \"insured_sex\": 1,\n",
    "  \"insured_education_level\": 4,\n",
    "  \"insured_occupation\": 6,\n",
    "  \"insured_hobbies\": 2,\n",
    "  \"insured_relationship\": 4,\n",
    "  \"incident_type\": 2,\n",
    "  \"collision_type\": 2,\n",
    "  \"incident_severity\": 1,\n",
    "  \"authorities_contacted\": 4,\n",
    "  \"property_damage\": 1,\n",
    "  \"police_report_available\": 1\n",
    "  }"
   ]
  },
  {
   "cell_type": "code",
   "execution_count": 43,
   "id": "66ad1b5b",
   "metadata": {},
   "outputs": [
    {
     "data": {
      "text/plain": [
       "array([0])"
      ]
     },
     "execution_count": 43,
     "metadata": {},
     "output_type": "execute_result"
    }
   ],
   "source": [
    "model.predict([list(json_input.values())])"
   ]
  },
  {
   "cell_type": "code",
   "execution_count": 82,
   "id": "9b269fed",
   "metadata": {},
   "outputs": [
    {
     "data": {
      "text/plain": [
       "array([[0.89, 0.11]])"
      ]
     },
     "execution_count": 82,
     "metadata": {},
     "output_type": "execute_result"
    }
   ],
   "source": [
    "model.predict_proba([list(json_input.values())])"
   ]
  },
  {
   "cell_type": "code",
   "execution_count": 49,
   "id": "898be4fd",
   "metadata": {},
   "outputs": [],
   "source": [
    "json_encode = {\n",
    "  \"months_as_customer\": 328,\n",
    "  \"age\": 29,\n",
    "  \"policy_deductable\": 1000,\n",
    "  \"umbrella_limit\": 5000000,\n",
    "  \"capital-gains\": 35100,\n",
    "  \"capital-loss\": 0,\n",
    "  \"incident_hour_of_the_day\": 5,\n",
    "  \"number_of_vehicles_involved\": 1,\n",
    "  \"bodily_injuries\": 2,\n",
    "  \"witnesses\": 0,\n",
    "  \"total_claim_amount\": 65000,\n",
    "  \"injury_claim\": 1300,\n",
    "  \"property_claim\": 650,\n",
    "  \"vehicle_claim\": 5200,\n",
    "  \"insured_sex\": \"MALE\",\n",
    "  \"insured_education_level\": \"MD\",\n",
    "  \"insured_occupation\": \"sales\",\n",
    "  \"insured_hobbies\": \"reading\",\n",
    "  \"insured_relationship\": \"unmarried\",\n",
    "  \"incident_type\": \"Vehicle Theft\",\n",
    "  \"collision_type\": \"Side Collision\",\n",
    "  \"incident_severity\": \"Major Damage\",\n",
    "  \"authorities_contacted\": \"Police\",\n",
    "  \"property_damage\": \"YES\",\n",
    "  \"police_report_available\": \"YES\"\n",
    "  }"
   ]
  },
  {
   "cell_type": "code",
   "execution_count": 54,
   "id": "ff638585",
   "metadata": {},
   "outputs": [],
   "source": [
    "encode_df = pd.DataFrame(json_encode,index=['i',])"
   ]
  },
  {
   "cell_type": "code",
   "execution_count": 63,
   "id": "9da145a8",
   "metadata": {},
   "outputs": [],
   "source": [
    "test_cat_df = encode_df.select_dtypes(include=['object']).copy()"
   ]
  },
  {
   "cell_type": "code",
   "execution_count": 64,
   "id": "030eb388",
   "metadata": {},
   "outputs": [],
   "source": [
    "test_num_df = encode_df.select_dtypes(include=[\"int64\"]).copy()"
   ]
  },
  {
   "cell_type": "code",
   "execution_count": 66,
   "id": "9ec9cf54",
   "metadata": {},
   "outputs": [],
   "source": [
    "for column in test_cat_df.columns:\n",
    "    label_encoder =  labelencoder_dict[column]\n",
    "    test_cat_df[column] = label_encoder.transform(test_cat_df[column])"
   ]
  },
  {
   "cell_type": "code",
   "execution_count": 70,
   "id": "55374574",
   "metadata": {},
   "outputs": [],
   "source": [
    "final_test_df = pd.concat([test_num_df,test_cat_df], axis=1)"
   ]
  },
  {
   "cell_type": "code",
   "execution_count": 71,
   "id": "61c48920",
   "metadata": {},
   "outputs": [
    {
     "data": {
      "text/html": [
       "<div>\n",
       "<style scoped>\n",
       "    .dataframe tbody tr th:only-of-type {\n",
       "        vertical-align: middle;\n",
       "    }\n",
       "\n",
       "    .dataframe tbody tr th {\n",
       "        vertical-align: top;\n",
       "    }\n",
       "\n",
       "    .dataframe thead th {\n",
       "        text-align: right;\n",
       "    }\n",
       "</style>\n",
       "<table border=\"1\" class=\"dataframe\">\n",
       "  <thead>\n",
       "    <tr style=\"text-align: right;\">\n",
       "      <th></th>\n",
       "      <th>months_as_customer</th>\n",
       "      <th>age</th>\n",
       "      <th>policy_deductable</th>\n",
       "      <th>umbrella_limit</th>\n",
       "      <th>capital-gains</th>\n",
       "      <th>capital-loss</th>\n",
       "      <th>incident_hour_of_the_day</th>\n",
       "      <th>number_of_vehicles_involved</th>\n",
       "      <th>bodily_injuries</th>\n",
       "      <th>witnesses</th>\n",
       "      <th>...</th>\n",
       "      <th>insured_education_level</th>\n",
       "      <th>insured_occupation</th>\n",
       "      <th>insured_hobbies</th>\n",
       "      <th>insured_relationship</th>\n",
       "      <th>incident_type</th>\n",
       "      <th>collision_type</th>\n",
       "      <th>incident_severity</th>\n",
       "      <th>authorities_contacted</th>\n",
       "      <th>property_damage</th>\n",
       "      <th>police_report_available</th>\n",
       "    </tr>\n",
       "  </thead>\n",
       "  <tbody>\n",
       "    <tr>\n",
       "      <th>i</th>\n",
       "      <td>328</td>\n",
       "      <td>29</td>\n",
       "      <td>1000</td>\n",
       "      <td>5000000</td>\n",
       "      <td>35100</td>\n",
       "      <td>0</td>\n",
       "      <td>5</td>\n",
       "      <td>1</td>\n",
       "      <td>2</td>\n",
       "      <td>0</td>\n",
       "      <td>...</td>\n",
       "      <td>4</td>\n",
       "      <td>11</td>\n",
       "      <td>15</td>\n",
       "      <td>4</td>\n",
       "      <td>3</td>\n",
       "      <td>2</td>\n",
       "      <td>0</td>\n",
       "      <td>4</td>\n",
       "      <td>1</td>\n",
       "      <td>1</td>\n",
       "    </tr>\n",
       "  </tbody>\n",
       "</table>\n",
       "<p>1 rows × 25 columns</p>\n",
       "</div>"
      ],
      "text/plain": [
       "   months_as_customer  age  policy_deductable  umbrella_limit  capital-gains  \\\n",
       "i                 328   29               1000         5000000          35100   \n",
       "\n",
       "   capital-loss  incident_hour_of_the_day  number_of_vehicles_involved  \\\n",
       "i             0                         5                            1   \n",
       "\n",
       "   bodily_injuries  witnesses  ...  insured_education_level  \\\n",
       "i                2          0  ...                        4   \n",
       "\n",
       "   insured_occupation  insured_hobbies  insured_relationship  incident_type  \\\n",
       "i                  11               15                     4              3   \n",
       "\n",
       "   collision_type  incident_severity  authorities_contacted  property_damage  \\\n",
       "i               2                  0                      4                1   \n",
       "\n",
       "   police_report_available  \n",
       "i                        1  \n",
       "\n",
       "[1 rows x 25 columns]"
      ]
     },
     "execution_count": 71,
     "metadata": {},
     "output_type": "execute_result"
    }
   ],
   "source": [
    "final_test_df"
   ]
  },
  {
   "cell_type": "code",
   "execution_count": 76,
   "id": "c93bed86",
   "metadata": {},
   "outputs": [],
   "source": [
    "df_list = final_test_df.values.tolist()"
   ]
  },
  {
   "cell_type": "code",
   "execution_count": 79,
   "id": "036fb0e3",
   "metadata": {},
   "outputs": [
    {
     "data": {
      "text/plain": [
       "list"
      ]
     },
     "execution_count": 79,
     "metadata": {},
     "output_type": "execute_result"
    }
   ],
   "source": [
    "type(df_list)"
   ]
  },
  {
   "cell_type": "code",
   "execution_count": 78,
   "id": "ed163014",
   "metadata": {},
   "outputs": [
    {
     "data": {
      "text/plain": [
       "array([0])"
      ]
     },
     "execution_count": 78,
     "metadata": {},
     "output_type": "execute_result"
    }
   ],
   "source": [
    "model.predict(df_list)"
   ]
  },
  {
   "cell_type": "code",
   "execution_count": 83,
   "id": "1ac87110",
   "metadata": {},
   "outputs": [
    {
     "data": {
      "text/plain": [
       "array([[0.67, 0.33]])"
      ]
     },
     "execution_count": 83,
     "metadata": {},
     "output_type": "execute_result"
    }
   ],
   "source": [
    "model.predict_proba(df_list)"
   ]
  },
  {
   "cell_type": "code",
   "execution_count": null,
   "id": "10df2b71",
   "metadata": {},
   "outputs": [],
   "source": [
    "def getEncoded(test_data,labelencoder_dict):\n",
    "    test_encoded_x = None\n",
    "    for i in range(0,test_data.shape[1]):\n",
    "        label_encoder =  labelencoder_dict[i]\n",
    "        feature = label_encoder.transform(test_data[:,i])\n",
    "        feature = feature.reshape(test_data.shape[0], 1)\n",
    "        if test_encoded_x is None:\n",
    "          test_encoded_x = feature\n",
    "        else:\n",
    "          test_encoded_x = np.concatenate((test_encoded_x, feature), axis=1)\n",
    "  return test_encoded_x"
   ]
  }
 ],
 "metadata": {
  "kernelspec": {
   "display_name": "Python 3",
   "language": "python",
   "name": "python3"
  },
  "language_info": {
   "codemirror_mode": {
    "name": "ipython",
    "version": 3
   },
   "file_extension": ".py",
   "mimetype": "text/x-python",
   "name": "python",
   "nbconvert_exporter": "python",
   "pygments_lexer": "ipython3",
   "version": "3.8.5"
  }
 },
 "nbformat": 4,
 "nbformat_minor": 5
}
